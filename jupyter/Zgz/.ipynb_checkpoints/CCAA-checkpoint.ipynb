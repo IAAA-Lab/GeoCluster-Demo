{
 "cells": [
  {
   "cell_type": "markdown",
   "metadata": {},
   "source": [
    "## Clustering with polygons\n",
    "### Dataset Zgz\n",
    "\n",
    "This notebook executes ClusterApplication to create a clusters shapefile from the data contained in the specified dataset.\n",
    "\n",
    "This dataset contains localities from the Spanish area of Zaragoza. Data consists in the polygon geometry and a numeric attribute - the population of the locality."
   ]
  },
  {
   "cell_type": "code",
   "execution_count": 1,
   "metadata": {
    "collapsed": false
   },
   "outputs": [],
   "source": [
    "%matplotlib inline\n",
    "\n",
    "import subprocess\n",
    "import matplotlib.pyplot as plt\n",
    "import shapefile\n",
    "import numpy as np"
   ]
  },
  {
   "cell_type": "markdown",
   "metadata": {},
   "source": [
    "### Execution\n",
    "\n",
    "** Algorithm: ** DBSCAN (eps = 500, minPts = 0)\n",
    "\n",
    "** Distance: ** Combined (Hausdorff * 0.6 + AbsoluteDiff * 0.4)\n",
    "\n",
    "** Results: ** four clusters are generated: one containing the city of Zaragoza, being the biggest one."
   ]
  },
  {
   "cell_type": "code",
   "execution_count": 9,
   "metadata": {
    "collapsed": false
   },
   "outputs": [
    {
     "data": {
      "image/png": "[encoded data removed]",
      "text/plain": [
       "<matplotlib.figure.Figure at 0x10d4b0470>"
      ]
     },
     "metadata": {},
     "output_type": "display_data"
    }
   ],
   "source": [
    "subprocess.call(\n",
    "    ['java', '-jar', 'combined.jar', 'Zgz', '0.6', '0.4', '2000', '0'], \n",
    "    stdout=None, stderr=None)\n",
    "\n",
    "# Plot elements colored by cluster\n",
    "colors = ['#FF00FF','#800080','#0000FF','#000080','#00FFFF','#008080','#00FF00','#008000','#FFFF00',\n",
    "          '#808000','#FF0000','#800000','#C0C0C0','#808080','#000000']\n",
    "\n",
    "i = 0\n",
    "sf = shapefile.Reader(\"cluster\")\n",
    "for sr in sf.shapes():\n",
    "    j = 0\n",
    "    mat = np.transpose(sr.points)\n",
    "    length = np.shape(mat)[1]\n",
    "    \n",
    "    parts = sr.parts\n",
    "    parts = np.append(parts, length)\n",
    "    parts = parts[1:]\n",
    "    \n",
    "    for index in parts:\n",
    "        points_x = []\n",
    "        points_y = []\n",
    "\n",
    "        while j < index:\n",
    "            points_x = np.append(points_x, [mat[0,j]])\n",
    "            points_y = np.append(points_y, mat[1,j])\n",
    "            j = j + 1\n",
    "\n",
    "        plt.fill(points_x,points_y,color=colors[i])\n",
    "        \n",
    "    i = i + 1\n",
    "        \n",
    "plt.show()"
   ]
  },
  {
   "cell_type": "markdown",
   "metadata": {
    "collapsed": true
   },
   "source": [
    "### Conclusions\n",
    "This dataset consists in a space with one high-density area (the Peninsula + Balear islands) and two sparse elements (the Canary islands and the African cities). Due"
   ]
  },
  {
   "cell_type": "markdown",
   "metadata": {},
   "source": [
    "### Cleanup"
   ]
  },
  {
   "cell_type": "code",
   "execution_count": 14,
   "metadata": {
    "collapsed": false
   },
   "outputs": [],
   "source": [
    "import os, fnmatch\n",
    "for root, dirs, files in os.walk('.', topdown=False):\n",
    "    for pattern in ['*.dbf','*.fix','*.prj','*.shp','*.shx']:\n",
    "        for name in fnmatch.filter(files, pattern):\n",
    "            os.remove(name)"
   ]
  }
 ],
 "metadata": {
  "kernelspec": {
   "display_name": "Python 3",
   "language": "python",
   "name": "python3"
  },
  "language_info": {
   "codemirror_mode": {
    "name": "ipython",
    "version": 3
   },
   "file_extension": ".py",
   "mimetype": "text/x-python",
   "name": "python",
   "nbconvert_exporter": "python",
   "pygments_lexer": "ipython3",
   "version": "3.5.1"
  }
 },
 "nbformat": 4,
 "nbformat_minor": 0
}
