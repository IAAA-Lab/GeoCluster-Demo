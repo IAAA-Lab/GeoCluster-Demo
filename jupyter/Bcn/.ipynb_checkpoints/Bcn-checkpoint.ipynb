{
 "cells": [
  {
   "cell_type": "markdown",
   "metadata": {},
   "source": [
    "## Clustering with polygons\n",
    "### Dataset Bcn\n",
    "\n",
    "This notebook executes ClusterApplication to create a clusters shapefile from the data contained in the specified dataset.\n",
    "\n",
    "This dataset contains localities from the Spanish area of Barcelona. Data consists in the polygon geometry and a numeric attribute - the population of the locality."
   ]
  },
  {
   "cell_type": "code",
   "execution_count": 42,
   "metadata": {
    "collapsed": false
   },
   "outputs": [],
   "source": [
    "%matplotlib inline\n",
    "\n",
    "import subprocess\n",
    "import matplotlib.pyplot as plt\n",
    "import shapefile\n",
    "import numpy as np"
   ]
  },
  {
   "cell_type": "markdown",
   "metadata": {},
   "source": [
    "### Execution\n",
    "\n",
    "** Algorithm: ** DBSCAN (eps = 20000, minPts = 0)\n",
    "\n",
    "** Distance: ** Combined (Hausdorff * 0.6 + AbsoluteDiff * 0.4)\n",
    "\n",
    "** Results: ** four clusters are generated: three of them contain only the three most populated localities, respectively. The fourth cluster contains every other locality."
   ]
  },
  {
   "cell_type": "code",
   "execution_count": 44,
   "metadata": {
    "collapsed": false
   },
   "outputs": [
    {
     "data": {
      "image/png": "[encoded data removed]",
      "text/plain": [
       "<matplotlib.figure.Figure at 0x10a44bfd0>"
      ]
     },
     "metadata": {},
     "output_type": "display_data"
    }
   ],
   "source": [
    "subprocess.call(\n",
    "    ['java', '-jar', 'combined.jar', 'Bcn', '111000', '0.1', '15000', '0'], \n",
    "    stdout=None, stderr=None)\n",
    "\n",
    "# Plot elements colored by cluster\n",
    "colors = ['#FF00FF','#800080','#0000FF','#000080','#00FFFF','#008080','#00FF00','#008000','#FFFF00',\n",
    "          '#808000','#FF0000','#800000','#C0C0C0','#808080','#000000']\n",
    "\n",
    "i = 0\n",
    "sf = shapefile.Reader(\"cluster\")\n",
    "for sr in sf.shapes():\n",
    "    j = 0\n",
    "    mat = np.transpose(sr.points)\n",
    "    length = np.shape(mat)[1]\n",
    "    \n",
    "    parts = sr.parts\n",
    "    parts = np.append(parts, length)\n",
    "    parts = parts[1:]\n",
    "    \n",
    "    for index in parts:\n",
    "        points_x = []\n",
    "        points_y = []\n",
    "\n",
    "        while j < index:\n",
    "            points_x = np.append(points_x, [mat[0,j]])\n",
    "            points_y = np.append(points_y, mat[1,j])\n",
    "            j = j + 1\n",
    "\n",
    "        plt.fill(points_x,points_y,color=colors[i])\n",
    "        \n",
    "    i = i + 1\n",
    "        \n",
    "plt.show()"
   ]
  },
  {
   "cell_type": "markdown",
   "metadata": {
    "collapsed": true
   },
   "source": [
    "## Conclusions\n",
    "This is an accurate representation as it separates the one big city in a cluster, creates another cluster for three ne"
   ]
  },
  {
   "cell_type": "markdown",
   "metadata": {},
   "source": [
    "### Cleanup"
   ]
  },
  {
   "cell_type": "code",
   "execution_count": 14,
   "metadata": {
    "collapsed": false
   },
   "outputs": [],
   "source": [
    "import os, fnmatch\n",
    "for root, dirs, files in os.walk('.', topdown=False):\n",
    "    for pattern in ['*.dbf','*.fix','*.prj','*.shp','*.shx']:\n",
    "        for name in fnmatch.filter(files, pattern):\n",
    "            os.remove(name)"
   ]
  }
 ],
 "metadata": {
  "kernelspec": {
   "display_name": "Python 3",
   "language": "python",
   "name": "python3"
  },
  "language_info": {
   "codemirror_mode": {
    "name": "ipython",
    "version": 3
   },
   "file_extension": ".py",
   "mimetype": "text/x-python",
   "name": "python",
   "nbconvert_exporter": "python",
   "pygments_lexer": "ipython3",
   "version": "3.5.1"
  }
 },
 "nbformat": 4,
 "nbformat_minor": 0
}
