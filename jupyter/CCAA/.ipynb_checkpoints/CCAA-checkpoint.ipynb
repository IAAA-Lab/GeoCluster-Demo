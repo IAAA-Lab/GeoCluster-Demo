{
 "cells": [
  {
   "cell_type": "markdown",
   "metadata": {},
   "source": [
    "## Clustering with polygons\n",
    "### Dataset Comunidades_Autonomas_ETRS89_30N\n",
    "\n",
    "This notebook executes ClusterApplication to create a clusters shapefile from the data contained in the specified dataset.\n",
    "\n",
    "This dataset contains polygonal geometries."
   ]
  },
  {
   "cell_type": "code",
   "execution_count": 1,
   "metadata": {
    "collapsed": false
   },
   "outputs": [],
   "source": [
    "%matplotlib inline\n",
    "\n",
    "import subprocess\n",
    "import matplotlib.pyplot as plt\n",
    "import shapefile\n",
    "import numpy as np"
   ]
  },
  {
   "cell_type": "markdown",
   "metadata": {},
   "source": [
    "### Execution 1\n",
    "\n",
    "** Algorithm: ** DBSCAN (eps = 350000, minPts = 0)\n",
    "\n",
    "** Distance: ** Hausdorff\n",
    "\n",
    "** Results: ** three clusters are generated: one containing the Peninsula, another one containing the African cities of Ceuta and Melilla and another one containing the Canary Islands. Note that, even though Ceuta is very near to the Peninsula, the algorithm places them in different clusters due to using the Hausdorff distance."
   ]
  },
  {
   "cell_type": "code",
   "execution_count": 2,
   "metadata": {
    "collapsed": false
   },
   "outputs": [
    {
     "data": {
      "image/png": "[encoded data removed]",
      "text/plain": [
       "<matplotlib.figure.Figure at 0x10c0bdc10>"
      ]
     },
     "metadata": {},
     "output_type": "display_data"
    }
   ],
   "source": [
    "subprocess.call(\n",
    "    ['java', '-jar', 'application.jar', 'Comunidades_Autonomas_ETRS89_30N', 'Hausdorff', 'DBSCAN', '350000', '0'], \n",
    "    stdout=None, stderr=None)\n",
    "\n",
    "# Plot elements colored by cluster\n",
    "colors = ['#FF00FF','#800080','#0000FF','#000080','#00FFFF','#008080','#00FF00','#008000','#FFFF00',\n",
    "          '#808000','#FF0000','#800000','#C0C0C0','#808080','#000000']\n",
    "\n",
    "i = 0\n",
    "sf = shapefile.Reader(\"cluster\")\n",
    "for sr in sf.shapes():\n",
    "    j = 0\n",
    "    mat = np.transpose(sr.points)\n",
    "    length = np.shape(mat)[1]\n",
    "    \n",
    "    parts = sr.parts\n",
    "    parts = np.append(parts, length)\n",
    "    parts = parts[1:]\n",
    "    \n",
    "    for index in parts:\n",
    "        points_x = []\n",
    "        points_y = []\n",
    "\n",
    "        while j < index:\n",
    "            points_x = np.append(points_x, [mat[0,j]])\n",
    "            points_y = np.append(points_y, mat[1,j])\n",
    "            j = j + 1\n",
    "\n",
    "        plt.fill(points_x,points_y,color=colors[i])\n",
    "        \n",
    "    i = i + 1\n",
    "        \n",
    "plt.show()"
   ]
  },
  {
   "cell_type": "markdown",
   "metadata": {},
   "source": [
    "### Execution 2\n",
    "\n",
    "** Algorithm: ** DBSCAN (eps = 350000, minPts = 0)\n",
    "\n",
    "** Distance: ** Euclidean\n",
    "\n",
    "** Results: ** two clusters are generated: one containing the Peninsula + Ceuta and Melilla, and another one containing the Canary Islands. Note that the Peninsula and the African cities are no longer separated, because now we are using the Euclidean distance."
   ]
  },
  {
   "cell_type": "code",
   "execution_count": 3,
   "metadata": {
    "collapsed": false
   },
   "outputs": [
    {
     "data": {
      "image/png": "[encoded data removed]",
      "text/plain": [
       "<matplotlib.figure.Figure at 0x10c9d03d0>"
      ]
     },
     "metadata": {},
     "output_type": "display_data"
    }
   ],
   "source": [
    "subprocess.call(\n",
    "    ['java', '-jar', 'application.jar', 'Comunidades_Autonomas_ETRS89_30N', 'Euclidean', 'DBSCAN', '350000', '0'], \n",
    "    stdout=None, stderr=None)\n",
    "\n",
    "# Plot elements colored by cluster\n",
    "colors = ['#FF00FF','#800080','#0000FF','#000080','#00FFFF','#008080','#00FF00','#008000','#FFFF00',\n",
    "          '#808000','#FF0000','#800000','#C0C0C0','#808080','#000000']\n",
    "\n",
    "i = 0\n",
    "sf = shapefile.Reader(\"cluster\")\n",
    "for sr in sf.shapes():\n",
    "    j = 0\n",
    "    mat = np.transpose(sr.points)\n",
    "    length = np.shape(mat)[1]\n",
    "    \n",
    "    parts = sr.parts\n",
    "    parts = np.append(parts, length)\n",
    "    parts = parts[1:]\n",
    "    \n",
    "    for index in parts:\n",
    "        points_x = []\n",
    "        points_y = []\n",
    "\n",
    "        while j < index:\n",
    "            points_x = np.append(points_x, [mat[0,j]])\n",
    "            points_y = np.append(points_y, mat[1,j])\n",
    "            j = j + 1\n",
    "\n",
    "        plt.fill(points_x,points_y,color=colors[i])\n",
    "        \n",
    "    i = i + 1\n",
    "        \n",
    "plt.show()"
   ]
  },
  {
   "cell_type": "markdown",
   "metadata": {},
   "source": [
    "### Execution 3\n",
    "\n",
    "** Algorithm: ** KMeans (eps = 350000, minPts = 0)\n",
    "\n",
    "** Distance: ** Hausdorff\n",
    "\n",
    "** Results: ** three clusters are generated from the division of the space in three parts, with no particular concern about cluster density or near neighbors. This is due to using KMeans algorithm."
   ]
  },
  {
   "cell_type": "code",
   "execution_count": 4,
   "metadata": {
    "collapsed": false
   },
   "outputs": [
    {
     "data": {
      "image/png": "[encoded data removed]",
      "text/plain": [
       "<matplotlib.figure.Figure at 0x10c9bef10>"
      ]
     },
     "metadata": {},
     "output_type": "display_data"
    }
   ],
   "source": [
    "subprocess.call(\n",
    "    ['java', '-jar', 'application.jar', 'Comunidades_Autonomas_ETRS89_30N', 'Hausdorff', 'KMeans', '3'], \n",
    "    stdout=None, stderr=None)\n",
    "\n",
    "# Plot elements colored by cluster\n",
    "colors = ['#FF00FF','#800080','#0000FF','#000080','#00FFFF','#008080','#00FF00','#008000','#FFFF00',\n",
    "          '#808000','#FF0000','#800000','#C0C0C0','#808080','#000000']\n",
    "\n",
    "i = 0\n",
    "sf = shapefile.Reader(\"cluster\")\n",
    "for sr in sf.shapes():\n",
    "    j = 0\n",
    "    mat = np.transpose(sr.points)\n",
    "    length = np.shape(mat)[1]\n",
    "    \n",
    "    parts = sr.parts\n",
    "    parts = np.append(parts, length)\n",
    "    parts = parts[1:]\n",
    "    \n",
    "    for index in parts:\n",
    "        points_x = []\n",
    "        points_y = []\n",
    "\n",
    "        while j < index:\n",
    "            points_x = np.append(points_x, [mat[0,j]])\n",
    "            points_y = np.append(points_y, mat[1,j])\n",
    "            j = j + 1\n",
    "\n",
    "        plt.fill(points_x,points_y,color=colors[i])\n",
    "        \n",
    "    i = i + 1\n",
    "        \n",
    "plt.show()"
   ]
  },
  {
   "cell_type": "markdown",
   "metadata": {
    "collapsed": true
   },
   "source": [
    "### Conclusions\n",
    "This dataset consists in a space with one high-density area (the Peninsula + Balear islands) and two sparse elements (the Canary islands and the African cities). Due"
   ]
  },
  {
   "cell_type": "markdown",
   "metadata": {},
   "source": [
    "### Cleanup"
   ]
  },
  {
   "cell_type": "code",
   "execution_count": 14,
   "metadata": {
    "collapsed": false
   },
   "outputs": [],
   "source": [
    "import os, fnmatch\n",
    "for root, dirs, files in os.walk('.', topdown=False):\n",
    "    for pattern in ['*.dbf','*.fix','*.prj','*.shp','*.shx']:\n",
    "        for name in fnmatch.filter(files, pattern):\n",
    "            os.remove(name)"
   ]
  }
 ],
 "metadata": {
  "kernelspec": {
   "display_name": "Python 3",
   "language": "python",
   "name": "python3"
  },
  "language_info": {
   "codemirror_mode": {
    "name": "ipython",
    "version": 3
   },
   "file_extension": ".py",
   "mimetype": "text/x-python",
   "name": "python",
   "nbconvert_exporter": "python",
   "pygments_lexer": "ipython3",
   "version": "3.5.1"
  }
 },
 "nbformat": 4,
 "nbformat_minor": 0
}
