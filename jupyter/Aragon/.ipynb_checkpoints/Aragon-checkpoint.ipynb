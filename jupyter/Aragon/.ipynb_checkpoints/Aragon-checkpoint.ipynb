{
 "cells": [
  {
   "cell_type": "markdown",
   "metadata": {},
   "source": [
    "## Clustering with polygons\n",
    "### Dataset Aragon\n",
    "\n",
    "This notebook executes ClusterApplication to create a clusters shapefile from the data contained in the specified dataset.\n",
    "\n",
    "This dataset contains polygonal geometries."
   ]
  },
  {
   "cell_type": "code",
   "execution_count": 1,
   "metadata": {
    "collapsed": false
   },
   "outputs": [],
   "source": [
    "%matplotlib inline\n",
    "\n",
    "import subprocess\n",
    "import matplotlib.pyplot as plt\n",
    "import shapefile\n",
    "import numpy as np"
   ]
  },
  {
   "cell_type": "markdown",
   "metadata": {},
   "source": [
    "### Execution 1\n",
    "\n",
    "** Algorithm: ** K-Means (k = 5)\n",
    "\n",
    "** Distance: ** Hausdorff\n",
    "\n",
    "** Results: ** five clusters are generated, all having a similar amount of space assigned. This is because K-Means tends to create groups with similar sizes. This is ok in applications like this one where we want to partition a space homogeneously populated."
   ]
  },
  {
   "cell_type": "code",
   "execution_count": null,
   "metadata": {
    "collapsed": false
   },
   "outputs": [],
   "source": [
    "subprocess.call(\n",
    "    ['java', '-jar', 'application.jar', 'aragon', 'Hausdorff', 'KMeans', '5'], \n",
    "    stdout=None, stderr=None)\n",
    "\n",
    "# Plot elements colored by cluster\n",
    "colors = ['#0000FF','#33CC33','#FFCC00','#FF0066','#6600CC']\n",
    "\n",
    "plt.figure(figsize=(5, 5), dpi=100)\n",
    "\n",
    "i = 0\n",
    "sf = shapefile.Reader(\"cluster\")\n",
    "for sr in sf.shapes():\n",
    "    j = 0\n",
    "    mat = np.transpose(sr.points)\n",
    "    length = np.shape(mat)[1]\n",
    "    \n",
    "    parts = sr.parts\n",
    "    parts = np.append(parts, length)\n",
    "    parts = parts[1:]\n",
    "    \n",
    "    for index in parts:\n",
    "        points_x = []\n",
    "        points_y = []\n",
    "\n",
    "        while j < index:\n",
    "            points_x = np.append(points_x, [mat[0,j]])\n",
    "            points_y = np.append(points_y, mat[1,j])\n",
    "            j = j + 1\n",
    "\n",
    "        plt.fill(points_x,points_y,color=colors[i])\n",
    "        \n",
    "    i = i + 1\n",
    "        \n",
    "plt.xlabel(\"Lon\")\n",
    "plt.ylabel(\"Lat\")\n",
    "plt.subplots_adjust(left = 0.18)\n",
    "plt.show()"
   ]
  },
  {
   "cell_type": "markdown",
   "metadata": {},
   "source": [
    "### Execution 2\n",
    "\n",
    "** Algorithm: ** K-Means++ (k = 5)\n",
    "\n",
    "** Distance: ** Hausdorff\n",
    "\n",
    "** Results: ** by using K-Means++ we try to separate the initial centroids to improve the results of the algorithm, because in some executions K-Means may produce bad results due to two centroids being initialized very near."
   ]
  },
  {
   "cell_type": "code",
   "execution_count": 5,
   "metadata": {
    "collapsed": false
   },
   "outputs": [
    {
     "data": {
      "image/png": "[encoded data removed]",
      "text/plain": [
       "<matplotlib.figure.Figure at 0x10ddf09b0>"
      ]
     },
     "metadata": {},
     "output_type": "display_data"
    }
   ],
   "source": [
    "subprocess.call(\n",
    "    ['java', '-jar', 'application.jar', 'aragon', 'Hausdorff', 'KMeans++', '5'], \n",
    "    stdout=None, stderr=None)\n",
    "\n",
    "# Plot elements colored by cluster\n",
    "colors = ['#0000FF','#33CC33','#FFCC00','#FF0066','#6600CC']\n",
    "\n",
    "plt.figure(figsize=(5, 5), dpi=100)\n",
    "\n",
    "i = 0\n",
    "sf = shapefile.Reader(\"cluster\")\n",
    "for sr in sf.shapes():\n",
    "    j = 0\n",
    "    mat = np.transpose(sr.points)\n",
    "    length = np.shape(mat)[1]\n",
    "    \n",
    "    parts = sr.parts\n",
    "    parts = np.append(parts, length)\n",
    "    parts = parts[1:]\n",
    "    \n",
    "    for index in parts:\n",
    "        points_x = []\n",
    "        points_y = []\n",
    "\n",
    "        while j < index:\n",
    "            points_x = np.append(points_x, [mat[0,j]])\n",
    "            points_y = np.append(points_y, mat[1,j])\n",
    "            j = j + 1\n",
    "\n",
    "        plt.fill(points_x,points_y,color=colors[i])\n",
    "        \n",
    "    i = i + 1\n",
    "     \n",
    "plt.xlabel(\"Lon\")\n",
    "plt.ylabel(\"Lat\")\n",
    "plt.subplots_adjust(left = 0.18)\n",
    "plt.show()"
   ]
  },
  {
   "cell_type": "markdown",
   "metadata": {
    "collapsed": true
   },
   "source": [
    "### Conclusions\n",
    "For a problem like this, consisting in distributing all data in k groups in an equal amount of space, K-Means is the way to go."
   ]
  },
  {
   "cell_type": "markdown",
   "metadata": {},
   "source": [
    "### Cleanup"
   ]
  },
  {
   "cell_type": "code",
   "execution_count": 17,
   "metadata": {
    "collapsed": false
   },
   "outputs": [],
   "source": [
    "import os, fnmatch\n",
    "for root, dirs, files in os.walk('.', topdown=False):\n",
    "    for pattern in ['*.dbf','*.fix','*.prj','*.shp','*.shx']:\n",
    "        for name in fnmatch.filter(files, pattern):\n",
    "            os.remove(name)"
   ]
  }
 ],
 "metadata": {
  "kernelspec": {
   "display_name": "Python 3",
   "language": "python",
   "name": "python3"
  },
  "language_info": {
   "codemirror_mode": {
    "name": "ipython",
    "version": 3
   },
   "file_extension": ".py",
   "mimetype": "text/x-python",
   "name": "python",
   "nbconvert_exporter": "python",
   "pygments_lexer": "ipython3",
   "version": "3.5.1"
  }
 },
 "nbformat": 4,
 "nbformat_minor": 0
}
